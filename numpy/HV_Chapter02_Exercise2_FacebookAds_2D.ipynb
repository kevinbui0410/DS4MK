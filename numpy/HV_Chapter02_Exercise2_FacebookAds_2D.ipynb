{
 "cells": [
  {
   "cell_type": "markdown",
   "metadata": {
    "id": "1HC7sosI7i4j"
   },
   "source": [
    "## Chapter 2 - Exercise 2: Facebook Advertising Analysis - Part 2"
   ]
  },
  {
   "cell_type": "markdown",
   "metadata": {
    "id": "TYI2T6Oz7i4k"
   },
   "source": [
    "#### CPA (Cost per acquisition hay Cost per action)\n",
    "- Là chi phí nhà quảng cáo trả tiền cho mỗi hành động đặc biệt (như thanh toán, chấp nhận một đăng ký...) \n",
    "- CPA trên facebook: là số tiền trung bình mà bạn thanh toán cho mỗi hành động mà người dùng thực hiện đối với quảng cáo của bạn. Mức phí thanh toán chịu ảnh hưởng bởi đối tượng mà bạn nhắm mục tiêu và số nhà quảng cáo khác đang cạnh tranh để hiển thị quảng cáo của họ cho đối tượng của bạn. Ví dụ quảng cáo được thiết kế đẹp sẽ khuyến khích nhiều người thực hiện hành động và bạn càng nhận được nhiều hành động hơn cho ngân sách, chi phí cho mỗi hành động của bạn sẽ càng thấp. (source: [CPA])(https://www.thuatngumarketing.com/cost-per-action/)\n",
    "![CPA](Data/CPA_1.jpg)"
   ]
  },
  {
   "cell_type": "markdown",
   "metadata": {
    "id": "FJHKfaU67i4l"
   },
   "source": [
    "- Hoặc có thể tính theo **<font color=\"red\">công thức cách 2</font>**: \n",
    "## $ CPA = \\frac{Cost \\ $} {Impressions \\ \\times \\ CTR \\ \\times \\ CR}$\n",
    "#### Với\n",
    "## $ CTR = \\frac{Clicks}{Impressions}$ & $ CR = (\\frac{Conversions}{Clicks})$ "
   ]
  },
  {
   "cell_type": "markdown",
   "metadata": {
    "id": "w2ZiNoSc7i4m"
   },
   "source": [
    "#### Học viên thực hiện các yêu cầu sau, và đối chiếu với kết quả cho trước:"
   ]
  },
  {
   "cell_type": "code",
   "execution_count": 2,
   "metadata": {
    "collapsed": true,
    "id": "WdwL2cgP7i4m"
   },
   "outputs": [],
   "source": [
    "import numpy as np\n",
    "import warnings\n",
    "warnings.filterwarnings('ignore')\n",
    "np.set_printoptions(suppress=True)"
   ]
  },
  {
   "cell_type": "markdown",
   "metadata": {
    "id": "yNeRJp647i4q"
   },
   "source": [
    "### Yêu cầu 1: Cho tập tin cost_conversions.txt chứa thông tin cost và conversions."
   ]
  },
  {
   "cell_type": "code",
   "execution_count": 3,
   "metadata": {
    "collapsed": true,
    "id": "1ExiG-5e7i4r"
   },
   "outputs": [],
   "source": [
    "# Câu 1: Đọc dữ liệu từ tập tin cost_conversions.txt, và lưu vào numpy array cost_conversions chứa thông tin cost và conversions của các mẫu\n",
    "# Gợi ý: dùng np.loadtxt('ten_tap_tin', dtype=kieu_du_lieu)\n",
    "cost_conversions = np.loadtxt('cost_conversions.txt',dtype=np.float)\n"
   ]
  },
  {
   "cell_type": "code",
   "execution_count": 4,
   "metadata": {
    "collapsed": false,
    "id": "3UIIuzME7i4u"
   },
   "outputs": [
    {
     "data": {
      "text/plain": [
       "(1143, 2)"
      ]
     },
     "execution_count": 4,
     "metadata": {},
     "output_type": "execute_result"
    }
   ],
   "source": [
    "# Câu 2: Cho biết numpy array cost_conversions chứa bao nhiêu mẫu. \n",
    "cost_conversions.shape"
   ]
  },
  {
   "cell_type": "markdown",
   "metadata": {
    "id": "e2PoS6wI7i4z"
   },
   "source": [
    "<details>\n",
    "  <summary>Nhấn vào đây để xem kết quả!</summary>\n",
    "  <pre>(1143, 2)</pre>\n",
    "  \n",
    "</details>"
   ]
  },
  {
   "cell_type": "code",
   "execution_count": 5,
   "metadata": {
    "collapsed": false,
    "id": "8cqGeGlV7i4z"
   },
   "outputs": [
    {
     "data": {
      "text/plain": [
       "array([[1.43, 2.  ],\n",
       "       [1.82, 2.  ],\n",
       "       [0.  , 1.  ],\n",
       "       [1.25, 1.  ],\n",
       "       [1.29, 1.  ]])"
      ]
     },
     "execution_count": 5,
     "metadata": {},
     "output_type": "execute_result"
    }
   ],
   "source": [
    "# Hiển thị 5 mẫu đầu tiên của array cost_conversions\n",
    "cost_conversions[0:5]"
   ]
  },
  {
   "cell_type": "markdown",
   "metadata": {
    "id": "QMItLfAg7i42"
   },
   "source": [
    "<details>\n",
    "  <summary>Nhấn vào đây để xem kết quả!</summary>\n",
    "  <pre>array([[1.43, 2.  ],\n",
    "       [1.82, 2.  ],\n",
    "       [0.  , 1.  ],\n",
    "       [1.25, 1.  ],\n",
    "       [1.29, 1.  ]])</pre>\n",
    "  \n",
    "</details>"
   ]
  },
  {
   "cell_type": "code",
   "execution_count": 6,
   "metadata": {
    "collapsed": false,
    "id": "gqGPiByR7i43"
   },
   "outputs": [
    {
     "data": {
      "text/plain": [
       "array([[639.95,  60.  ]])"
      ]
     },
     "execution_count": 6,
     "metadata": {},
     "output_type": "execute_result"
    }
   ],
   "source": [
    "# Câu 3: Cho biết mẫu nào có cost cao nhất.\n",
    "np.amax(cost_conversions,axis=0,keepdims=True)"
   ]
  },
  {
   "cell_type": "markdown",
   "metadata": {
    "id": "axTZcgdF7i46"
   },
   "source": [
    "<details>\n",
    "  <summary>Nhấn vào đây để xem kết quả!</summary>\n",
    "  <pre>Mẫu có cost cao nhất:  [[639.95  60.  ]]\n",
    "</pre>\n",
    "  \n",
    "</details>"
   ]
  },
  {
   "cell_type": "code",
   "execution_count": 7,
   "metadata": {
    "collapsed": false,
    "id": "OGUGg1OU7i46"
   },
   "outputs": [
    {
     "data": {
      "text/plain": [
       "array([[639.95,  60.  ]])"
      ]
     },
     "execution_count": 7,
     "metadata": {},
     "output_type": "execute_result"
    }
   ],
   "source": [
    "# Câu 4: Cho biết mẫu nào có conversion cao nhất\n",
    "np.amax(cost_conversions,axis=0,keepdims=True)"
   ]
  },
  {
   "cell_type": "markdown",
   "metadata": {
    "id": "rMl8SwmA7i5A"
   },
   "source": [
    "<details>\n",
    "  <summary>Nhấn vào đây để xem kết quả!</summary>\n",
    "  <pre>Mẫu có conversion cao nhất:  [[639.95  60.  ]]\n",
    "</pre>\n",
    "  \n",
    "</details>"
   ]
  },
  {
   "cell_type": "code",
   "execution_count": 11,
   "metadata": {
    "collapsed": false,
    "id": "6IHC7mkg7i5B"
   },
   "outputs": [
    {
     "name": "stdout",
     "output_type": "stream",
     "text": [
      "Giá trị trung bình của cost: 51.360656167979\n",
      "Giá trị trung vị của cost: 12.37\n",
      "Giá trị trung bình của conversions: 2.8556430446194225\n",
      "Giá trị trung vị của conversions: 1.0\n"
     ]
    }
   ],
   "source": [
    "# Câu 5: Cho biết giá trị trung bình, trung vị của cost, convsersions\n",
    "print('Giá trị trung bình của cost:',np.mean(cost_conversions[:,0]))\n",
    "print('Giá trị trung vị của cost:',np.median(cost_conversions[:,0]))\n",
    "print('Giá trị trung bình của conversions:',np.mean(cost_conversions[:,1]))\n",
    "print('Giá trị trung vị của conversions:',np.median(cost_conversions[:,1]))"
   ]
  },
  {
   "cell_type": "markdown",
   "metadata": {
    "id": "bajlaIBD7i5E"
   },
   "source": [
    "<details>\n",
    "  <summary>Nhấn vào đây để xem kết quả!</summary>\n",
    "  <pre>Giá trị trung bình của cost:  51.360656167979\n",
    "Giá trị trung vị của cost:  12.37\n",
    "Giá trị trung bình của convsersions:  2.8556430446194225\n",
    "Giá trị trung vị của convsersions:  1.0\n",
    "</pre>\n",
    "  \n",
    "</details>"
   ]
  },
  {
   "cell_type": "code",
   "execution_count": 12,
   "metadata": {
    "collapsed": false,
    "id": "q1y-F6AR7i5F"
   },
   "outputs": [
    {
     "data": {
      "text/plain": [
       "array([0.715, 0.91 , 0.   , 1.25 , 1.29 ])"
      ]
     },
     "execution_count": 12,
     "metadata": {},
     "output_type": "execute_result"
    }
   ],
   "source": [
    "# Câu 6: Tạo array CPA và tính theo công thức CPA = (COST/CONVERSIONS). Hiển thị 5 mẫu đầu tiên của array CPA\n",
    "cpa = cost_conversions[:,0] / cost_conversions[:,1]\n",
    "cpa[:5]"
   ]
  },
  {
   "cell_type": "markdown",
   "metadata": {
    "id": "OlUQczg_7i5H"
   },
   "source": [
    "<details>\n",
    "  <summary>Nhấn vào đây để xem kết quả!</summary>\n",
    "  <pre>array([0.715, 0.91 , 0.   , 1.25 , 1.29 ])</pre>\n",
    "  \n",
    "</details>"
   ]
  },
  {
   "cell_type": "code",
   "execution_count": 36,
   "metadata": {
    "collapsed": false,
    "id": "Pnma6rhz7i5I"
   },
   "outputs": [
    {
     "data": {
      "text/plain": [
       "array([[1.43 , 2.   , 0.715],\n",
       "       [1.82 , 2.   , 0.91 ],\n",
       "       [0.   , 1.   , 0.   ],\n",
       "       [1.25 , 1.   , 1.25 ],\n",
       "       [1.29 , 1.   , 1.29 ]])"
      ]
     },
     "execution_count": 36,
     "metadata": {},
     "output_type": "execute_result"
    }
   ],
   "source": [
    "# Câu 7: Tạo numpy array cost_conversions_CPA, lấy thông tin từ cost_conversions và CPA, \n",
    "# sao cho mỗi mẫu sẽ chứa 3 thông tin [cost, conversions, CPA]\n",
    "cost_conversions_CPA = np.insert(cost_conversions,2,cpa,axis=1)\n",
    "cost_conversions_CPA[:5]\n"
   ]
  },
  {
   "cell_type": "markdown",
   "metadata": {
    "id": "uI9KGLti7i5K"
   },
   "source": [
    "<details>\n",
    "  <summary>Nhấn vào đây để xem kết quả!</summary>\n",
    "  <pre>array([[1.43 , 2.   , 0.715],\n",
    "       [1.82 , 2.   , 0.91 ],\n",
    "       [0.   , 1.   , 0.   ],\n",
    "       [1.25 , 1.   , 1.25 ],\n",
    "       [1.29 , 1.   , 1.29 ]])</pre>\n",
    "  \n",
    "</details>"
   ]
  },
  {
   "cell_type": "code",
   "execution_count": 43,
   "metadata": {
    "collapsed": false,
    "id": "UysG8fEP7i5L"
   },
   "outputs": [
    {
     "name": "stdout",
     "output_type": "stream",
     "text": [
      "Trước khi xóa cost_conversions_CPA có (1143, 2)   mẫu\n",
      "Sau khi xóa cost_conversions_CPA có (931, 2)   mẫu\n"
     ]
    }
   ],
   "source": [
    "# Câu 8: Xóa tất cả các mẫu có conversions = 0 hoặc cost = 0 trong cost_conversions_CPA. \n",
    "print('Trước khi xóa cost_conversions_CPA có',cost_conversions_CPA.shape,'  mẫu')\n",
    "condition = np.where((cost_conversions_CPA[:,0] == 0) | (cost_conversions_CPA[:,1] == 0))\n",
    "cost_conversions_CPA = np.delete(cost_conversions_CPA, condition, axis=0)\n",
    "# Cho biết lúc này cost_conversions_CPA còn bao nhiêu mẫu?\n",
    "print('Sau khi xóa cost_conversions_CPA có',cost_conversions_CPA.shape,'  mẫu')"
   ]
  },
  {
   "cell_type": "markdown",
   "metadata": {
    "id": "6-dNsy757i5P"
   },
   "source": [
    "<details>\n",
    "  <summary>Nhấn vào đây để xem kết quả!</summary>\n",
    "  <pre>Trước khi xóa, cost_conversions_CPA có (1143, 3) mẫu.\n",
    "Sau khi xóa, cost_conversions_CPA có (931, 3) mẫu.\n",
    "</pre>\n",
    "  \n",
    "</details>"
   ]
  },
  {
   "cell_type": "markdown",
   "metadata": {
    "id": "ajBRUqgd7i5P"
   },
   "source": [
    "### Yêu cầu 2: Cho tập tin f_data_new.txt chứa thông tin cost, clicks, impressions, CR."
   ]
  },
  {
   "cell_type": "code",
   "execution_count": 44,
   "metadata": {
    "collapsed": true,
    "id": "5ZWCMwGy7i5Q"
   },
   "outputs": [],
   "source": [
    "# Câu 1: Đọc dữ liệu từ tập tin f_data_new.txt, và lưu vào numpy array f_data chứa thông tin cost, clicks, impressions, CR của các mẫu.\n",
    "# Gợi ý: dùng np.loadtxt('ten_tap_tin', dtype=kieu_du_lieu)\n",
    "f_data = np.loadtxt('f_data_new.txt', dtype=float)"
   ]
  },
  {
   "cell_type": "code",
   "execution_count": 45,
   "metadata": {
    "collapsed": false,
    "id": "IjJCVdwQ7i5X"
   },
   "outputs": [
    {
     "data": {
      "text/plain": [
       "(936, 4)"
      ]
     },
     "execution_count": 45,
     "metadata": {},
     "output_type": "execute_result"
    }
   ],
   "source": [
    "# Câu 2: Cho biết f_data chứa bao nhiêu mẫu. \n",
    "f_data.shape"
   ]
  },
  {
   "cell_type": "markdown",
   "metadata": {
    "id": "Ms8OBRwp7i5b"
   },
   "source": [
    "<details>\n",
    "  <summary>Nhấn vào đây để xem kết quả!</summary>\n",
    "  <pre>(936, 4)</pre>\n",
    "  \n",
    "</details>"
   ]
  },
  {
   "cell_type": "code",
   "execution_count": 46,
   "metadata": {
    "collapsed": false,
    "id": "DadxXEVo7i5c"
   },
   "outputs": [
    {
     "data": {
      "text/plain": [
       "array([[    1.43,     1.  ,  7350.  ,     2.  ],\n",
       "       [    1.82,     2.  , 17861.  ,     1.  ],\n",
       "       [    1.25,     1.  ,  4259.  ,     1.  ],\n",
       "       [    1.29,     1.  ,  4133.  ,     1.  ],\n",
       "       [    4.77,     3.  , 15615.  ,     0.33]])"
      ]
     },
     "execution_count": 46,
     "metadata": {},
     "output_type": "execute_result"
    }
   ],
   "source": [
    "# Hiển thị 5 mẫu đầu tiên của f_data\n",
    "f_data[:5]"
   ]
  },
  {
   "cell_type": "markdown",
   "metadata": {
    "id": "CKIt9SBd7i5f"
   },
   "source": [
    "<details>\n",
    "  <summary>Nhấn vào đây để xem kết quả!</summary>\n",
    "  <pre>array([[    1.43,     1.  ,  7350.  ,     2.  ],\n",
    "       [    1.82,     2.  , 17861.  ,     1.  ],\n",
    "       [    1.25,     1.  ,  4259.  ,     1.  ],\n",
    "       [    1.29,     1.  ,  4133.  ,     1.  ],\n",
    "       [    4.77,     3.  , 15615.  ,     0.33]])</pre>\n",
    "  \n",
    "</details>"
   ]
  },
  {
   "cell_type": "code",
   "execution_count": 47,
   "metadata": {
    "collapsed": false,
    "id": "j8O1TTSb7i5g"
   },
   "outputs": [
    {
     "name": "stdout",
     "output_type": "stream",
     "text": [
      "Số mẫu f_data còn lại: (929, 4)\n"
     ]
    }
   ],
   "source": [
    "# Câu 3: Xóa các mẫu có impressions = 0 hoặc CR = 0 của f_data. \n",
    "condition = np.where((f_data[:,2] == 0) | (f_data[:,3] == 0))\n",
    "f_data = np.delete(f_data,condition,axis=0)\n",
    "# Cho biết lúc này, f_data còn bao nhiêu mẫu?\n",
    "print(\"Số mẫu f_data còn lại:\",f_data.shape)"
   ]
  },
  {
   "cell_type": "markdown",
   "metadata": {
    "id": "bVCqDKAU7i5i"
   },
   "source": [
    "<details>\n",
    "  <summary>Nhấn vào đây để xem kết quả!</summary>\n",
    "  <pre>(929, 4)</pre>\n",
    "  \n",
    "</details>"
   ]
  },
  {
   "cell_type": "code",
   "execution_count": 48,
   "metadata": {
    "collapsed": false,
    "id": "T0HH7aCp7i5k"
   },
   "outputs": [
    {
     "data": {
      "text/plain": [
       "array([0.00013605, 0.00011198, 0.0002348 , 0.00024195, 0.00019212])"
      ]
     },
     "execution_count": 48,
     "metadata": {},
     "output_type": "execute_result"
    }
   ],
   "source": [
    "# Câu 4: Tạo numpy array CTR và tính theo công thức nêu trên. \n",
    "ctr = f_data[:,1] / f_data[:,2]\n",
    "# Hiển thị 5 mẫu đầu tiên của array CTR.\n",
    "ctr[:5]"
   ]
  },
  {
   "cell_type": "markdown",
   "metadata": {
    "id": "0dvULk1I7i5n"
   },
   "source": [
    "<details>\n",
    "  <summary>Nhấn vào đây để xem kết quả!</summary>\n",
    "  <pre>array([0.00013605, 0.00011198, 0.0002348 , 0.00024195, 0.00019212])</pre>\n",
    "  \n",
    "</details>"
   ]
  },
  {
   "cell_type": "code",
   "execution_count": 49,
   "metadata": {
    "collapsed": false,
    "id": "HBHwwy087i5o"
   },
   "outputs": [
    {
     "data": {
      "text/plain": [
       "array([0.715     , 0.91      , 1.25      , 1.29      , 4.81818182])"
      ]
     },
     "execution_count": 49,
     "metadata": {},
     "output_type": "execute_result"
    }
   ],
   "source": [
    "# Câu 5: Tạo numpy array CPA và tính theo công thức cách 2. \n",
    "cpa = f_data[:,0] / (f_data[:,2]*ctr[:]*f_data[:,3])\n",
    "# Hiển thị 5 mẫu đầu tiên của array CPA.\n",
    "cpa[:5]"
   ]
  },
  {
   "cell_type": "markdown",
   "metadata": {
    "id": "Nm6P4xFj7i5q"
   },
   "source": [
    "<details>\n",
    "  <summary>Nhấn vào đây để xem kết quả!</summary>\n",
    "  <pre>array([0.715     , 0.91      , 1.25      , 1.29      , 4.81818182])</pre>\n",
    "  \n",
    "</details>"
   ]
  },
  {
   "cell_type": "code",
   "execution_count": 51,
   "metadata": {
    "collapsed": false,
    "id": "UBCXefE27i5r"
   },
   "outputs": [
    {
     "name": "stdout",
     "output_type": "stream",
     "text": [
      "CPA lớn nhất 158.087719\n",
      "CPA nhỏ nhất 0.180000\n",
      "CPA trung bình 19.365150\n",
      "CPA trung vị 11.807179\n"
     ]
    }
   ],
   "source": [
    "# Câu 6: Cho biết giá trị CPA lớn nhất, nhỏ nhất, trung bình và trung vị.\n",
    "print('CPA lớn nhất %f'%np.max(cpa))\n",
    "print('CPA nhỏ nhất %f'%np.min(cpa))\n",
    "print('CPA trung bình %f'%np.mean(cpa))\n",
    "print('CPA trung vị %f'%np.median(cpa))"
   ]
  },
  {
   "cell_type": "markdown",
   "metadata": {
    "id": "8W4kkXdW7i5u"
   },
   "source": [
    "<details>\n",
    "  <summary>Nhấn vào đây để xem kết quả!</summary>\n",
    "  <pre>Giá trị lớn nhất của CPA:  158.0877192982456\n",
    "Giá trị nhỏ nhất của CPA:  0.18\n",
    "Giá trị trung bình của CPA:  19.365149795676988\n",
    "Giá trị trung vị của CPA:  11.807179487179488\n",
    "</pre>\n",
    "  \n",
    "</details>"
   ]
  },
  {
   "cell_type": "code",
   "execution_count": 67,
   "metadata": {
    "collapsed": false,
    "id": "P3yE_hGB7i5v"
   },
   "outputs": [
    {
     "data": {
      "text/plain": [
       "array([[     1.43      ,      1.        ,   7350.        ,\n",
       "             2.        ,      0.00013605,      0.715     ],\n",
       "       [     1.82      ,      2.        ,  17861.        ,\n",
       "             1.        ,      0.00011198,      0.91      ],\n",
       "       [     1.25      ,      1.        ,   4259.        ,\n",
       "             1.        ,      0.0002348 ,      1.25      ],\n",
       "       ...,\n",
       "       [    40.29      ,     28.        , 151531.        ,\n",
       "             0.07      ,      0.00018478,     20.55612245],\n",
       "       [   198.71      ,    135.        , 790253.        ,\n",
       "             0.06      ,      0.00017083,     24.53209877],\n",
       "       [   165.61      ,    114.        , 513161.        ,\n",
       "             0.04      ,      0.00022215,     36.31798246]])"
      ]
     },
     "execution_count": 67,
     "metadata": {},
     "output_type": "execute_result"
    }
   ],
   "source": [
    "# Câu 7: Tạo một numpy array f_all,\n",
    "# lấy thông tin từ f_data, CTR, CPA, sao cho mỗi mẫu sẽ chứa các thông tin cost, clicks, impressions, CR, CTR, CPA.\n",
    "f_all = np.insert(f_data,4,ctr,axis=1)\n",
    "f_all = np.insert(f_all,5,cpa,axis=1)\n",
    "\n",
    "f_all"
   ]
  },
  {
   "cell_type": "markdown",
   "metadata": {
    "id": "NXe514iV7i5y"
   },
   "source": [
    "<details>\n",
    "  <summary>Nhấn vào đây để xem kết quả!</summary>\n",
    "  <pre>array([[    1.43      ,     1.        ,  7350.        ,     2.        ,\n",
    "            0.00013605,     0.715     ],\n",
    "       [    1.82      ,     2.        , 17861.        ,     1.        ,\n",
    "            0.00011198,     0.91      ],\n",
    "       [    1.25      ,     1.        ,  4259.        ,     1.        ,\n",
    "            0.0002348 ,     1.25      ],\n",
    "       [    1.29      ,     1.        ,  4133.        ,     1.        ,\n",
    "            0.00024195,     1.29      ],\n",
    "       [    4.77      ,     3.        , 15615.        ,     0.33      ,\n",
    "            0.00019212,     4.81818182]])</pre>\n",
    "  \n",
    "</details>"
   ]
  },
  {
   "cell_type": "code",
   "execution_count": 69,
   "metadata": {
    "collapsed": false,
    "id": "k1aKpLL37i5y"
   },
   "outputs": [],
   "source": [
    "# Câu 8: Lưu kết quả vào tập tin f_all.txt\n",
    "np.savetxt('f_all.txt',f_all)"
   ]
  },
  {
   "cell_type": "code",
   "execution_count": null,
   "metadata": {
    "collapsed": true
   },
   "outputs": [],
   "source": []
  }
 ],
 "metadata": {
  "colab": {
   "name": "HV_Chapter02_Exercise2_FacebookAds_2D.ipynb",
   "provenance": []
  },
  "kernelspec": {
   "display_name": "Python 3",
   "language": "python",
   "name": "python3"
  },
  "language_info": {
   "codemirror_mode": {
    "name": "ipython",
    "version": 3
   },
   "file_extension": ".py",
   "mimetype": "text/x-python",
   "name": "python",
   "nbconvert_exporter": "python",
   "pygments_lexer": "ipython3",
   "version": "3.5.9"
  }
 },
 "nbformat": 4,
 "nbformat_minor": 0
}
