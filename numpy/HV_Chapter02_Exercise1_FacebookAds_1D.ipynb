{
 "cells": [
  {
   "cell_type": "markdown",
   "metadata": {
    "id": "12pxE7I9zCyo"
   },
   "source": [
    "## Chapter 2 - Exercise 1: Facebook Advertising Analysis - Part 1"
   ]
  },
  {
   "cell_type": "markdown",
   "metadata": {
    "id": "i8SYAavmzCyp"
   },
   "source": [
    "####  Facebook Advertising (Facebook Ads) là tên dịch vụ quảng cáo Facebook, cho phép hiển thị thông tin quảng cáo của các tổ chức/ cá nhân trên mạng xã hội Facebook. Quảng cáo trên mạng Facebook được phân phối tự động dựa trên rất nhiều các tiêu chí về giới tính, độ tuổi, khu vực địa lý, đặc điểm hành vi người dùng phù hợp với khách hàng mục tiêu của doanh nghiệp.\n",
    "- CPC (Cost per Click) là hình thức quảng cáo trả phí được thanh toán dựa vào số click (bấm) vào quảng cáo. Ví dụ: khi người dùng trên Facebook bấm vào quảng cáo của bạn thì bạn sẽ mất một khoản tiền cho mỗi click. CPC tốt cho Lead Generation ( tìm kiếm và dẫn dụ người dùng). Ưu điểm lớn nhất của CPC đó chính là việc bạn sẽ tối ưu được ngân sách quảng cáo. Cụ thể trong trường hợp quảng cáo hiển thị đến những đối tượng người dùng không có nhu cầu với sản phẩm, dịch vụ, họ không nhấp vào quảng cáo thì doanh nghiệp bạn sẽ không mất bất kì khoản phí nào cả. \n",
    "### $ CPC = \\frac{Money \\ Spent}{Clicks} $\n",
    "- CPM (Cost per mille hay “cost per thousand” là hình thức thanh toán dựa vào số lượt hiển thị quảng cáo, không cần biết user có tương tác hay không. Ví dụ: với cứ 1000 lượt hiển thị quảng cáo doanh nghiệp sẽ mất một khoản tiền cho 1000 lượt hiển thị đó. Hình thức quảng cáo này phù hợp nhất với các doanh nghiệp đang có nhu cầu phát triển thương hiệu nhiều hơn là bán hàng. Quảng cáo CPM cũng giúp đảm bảo rằng quảng cáo của bạn sẽ được tiếp cận đến tối đa người dùng trong tập đối tượng mục tiêu một cách liên tục. Nhược điểm đối với cách tính phí theo lượt hiển thị này đó chính là doanh nghiệp sẽ khó lòng nhắm quảng cáo đến đúng những đối tượng khách hàng tiềm năng. \n",
    "### $ CPM = (\\frac{Money \\ Spent}{Impressions}) \\times 1000 $\n",
    "![CPI](Data/CPC_CPI.png)"
   ]
  },
  {
   "cell_type": "markdown",
   "metadata": {
    "id": "AACUG95czCyq"
   },
   "source": [
    "#### Cho các tập tin clicks.txt (chứa clicks), spent.txt (chứa money spent), và impressions.txt (chứa impressions).\n",
    "#### Học viên thực hiện các yêu cầu sau, và đối chiếu với kết quả cho trước:"
   ]
  },
  {
   "cell_type": "code",
   "execution_count": 1,
   "metadata": {
    "collapsed": true,
    "id": "lCQSpQNdzCyr"
   },
   "outputs": [],
   "source": [
    "import numpy as np\n",
    "import warnings\n",
    "warnings.filterwarnings('ignore')"
   ]
  },
  {
   "cell_type": "code",
   "execution_count": 63,
   "metadata": {
    "collapsed": true,
    "id": "MnYTH2CdzCyv"
   },
   "outputs": [],
   "source": [
    "# Câu 1: Đọc dữ liệu từ 3 tập tin trên, và lưu vào 3 numpy array: clicks, spent và impressions chứa 3 thông tin (mỗi tập tin chứa một thông tin) của các mẫu.\n",
    "# Gợi ý: (dùng np.loadtxt('ten_tap_tin', dtype=kieu_du_lieu))\n",
    "clicks = np.loadtxt('clicks.txt', dtype=int)\n",
    "spent = np.loadtxt('spent.txt', dtype=float)\n",
    "impressions = np.loadtxt('impressions.txt', dtype=float)\n"
   ]
  },
  {
   "cell_type": "code",
   "execution_count": 3,
   "metadata": {
    "collapsed": false,
    "id": "Cb_BKW_jzCyz"
   },
   "outputs": [
    {
     "name": "stdout",
     "output_type": "stream",
     "text": [
      "So mau cua clicks: 1143 mau\n",
      "So mau cua spent: 1143 mau\n",
      "So mau cua impressions: 1143 mau\n"
     ]
    }
   ],
   "source": [
    "# Câu 2: Cho biết mỗi numpy array trên chứa bao nhiêu mẫu. \n",
    "print('So mau cua clicks: %d mau'%clicks.size)\n",
    "print('So mau cua spent: %d mau'%spent.size)\n",
    "print('So mau cua impressions: %d mau'%impressions.size)"
   ]
  },
  {
   "cell_type": "markdown",
   "metadata": {
    "id": "n4BigKs0zCy3"
   },
   "source": [
    "<details>\n",
    "  <summary>Nhấn vào đây để xem kết quả!</summary>\n",
    "  <pre>Clicks chứa  1143 mẫu\n",
    "Spent chứa  1143 mẫu\n",
    "Impressions chứa  1143 mẫu\n",
    "</pre>\n",
    "  \n",
    "</details>"
   ]
  },
  {
   "cell_type": "code",
   "execution_count": 5,
   "metadata": {
    "collapsed": false,
    "id": "ofYirTKMzCy3"
   },
   "outputs": [
    {
     "name": "stdout",
     "output_type": "stream",
     "text": [
      "5 mẫu đầu tiên của clicks:  [1 2 0 1 1]\n",
      "5 mẫu đầu tiên của spent:  [1.43 1.82 0.   1.25 1.29]\n",
      "5 mẫu đầu tiên của impressions:  [ 7350. 17861.   693.  4259.  4133.]\n"
     ]
    }
   ],
   "source": [
    "# In 5 mẫu đầu tiên của từng array.\n",
    "print('5 mẫu đầu tiên của clicks: ',clicks[0:5])\n",
    "print('5 mẫu đầu tiên của spent: ',spent[0:5])\n",
    "print('5 mẫu đầu tiên của impressions: ',impressions[0:5])"
   ]
  },
  {
   "cell_type": "markdown",
   "metadata": {
    "id": "SezGWA8azCy7"
   },
   "source": [
    "<details>\n",
    "  <summary>Nhấn vào đây để xem kết quả!</summary>\n",
    "  <pre>5 mẫu đầu tiên của clicks:  [1 2 0 1 1]\n",
    "5 mẫu đầu tiên của spent:  [1.43 1.82 0.   1.25 1.29]\n",
    "5 mẫu đầu tiên của impressions:  [ 7350 17861   693  4259  4133]\n",
    "</pre>\n",
    "  \n",
    "</details>"
   ]
  },
  {
   "cell_type": "code",
   "execution_count": 9,
   "metadata": {
    "collapsed": false,
    "id": "lqISu_-MzCy7"
   },
   "outputs": [
    {
     "name": "stdout",
     "output_type": "stream",
     "text": [
      "Giá trị của click ở vị trí 10:0 vị trí 100:2 vị trí 1000:164\n",
      "Giá trị của spent ở vị trí 10:0.00 vị trí 100:2.35 vị trí 1000:226.03\n",
      "Giá trị của impression ở vị trí 10:1224.00 vị trí 100:6907.00 vị trí 1000:699314.00\n"
     ]
    }
   ],
   "source": [
    "# Câu 3: Cho biết giá trị lần lượt của click, spent và impression ở vị trí 10, 100, 1000 của các numpy array trên.\n",
    "print('Giá trị của click ở vị trí 10:%d vị trí 100:%d vị trí 1000:%d'%(clicks[10],clicks[100],clicks[1000]))\n",
    "print('Giá trị của spent ở vị trí 10:%.2f vị trí 100:%.2f vị trí 1000:%.2f'%(spent[10],spent[100],spent[1000]))\n",
    "print('Giá trị của impression ở vị trí 10:%.2f vị trí 100:%.2f vị trí 1000:%.2f'%(impressions[10],impressions[100],impressions[1000]))\n"
   ]
  },
  {
   "cell_type": "markdown",
   "metadata": {
    "id": "Jv2wStvPzCy_"
   },
   "source": [
    "<details>\n",
    "  <summary>Nhấn vào đây để xem kết quả!</summary>\n",
    "  <pre>Giá trị lần lượt của click ở vị trí 10, 100, 1000:  [  0   2 164]\n",
    "Giá trị lần lượt của spent ở vị trí 10, 100, 1000:  [  0.     2.35 226.03]\n",
    "Giá trị lần lượt của impression ở vị trí 10, 100, 1000:  [  1224   6907 699314]\n",
    "</pre>\n",
    "  \n",
    "</details>"
   ]
  },
  {
   "cell_type": "code",
   "execution_count": 13,
   "metadata": {
    "collapsed": false,
    "id": "WdqmuFHNzCzA"
   },
   "outputs": [
    {
     "name": "stdout",
     "output_type": "stream",
     "text": [
      "Giá trị 5 mẫu cuối cùng của clicks: [252 120  28 135 114]\n",
      "Giá trị 5 mẫu cuối cùng của spent: [358.19 173.88  40.29 198.71 165.61]\n",
      "Giá trị 5 mẫu cuối cùng của impressions: [1129773.  637549.  151531.  790253.  513161.]\n"
     ]
    }
   ],
   "source": [
    "# Câu 4: Cho biết giá trị 5 mẫu cuối cùng của các numpy array trên\n",
    "print('Giá trị 5 mẫu cuối cùng của clicks:',clicks[-5:])\n",
    "print('Giá trị 5 mẫu cuối cùng của spent:',spent[-5:])\n",
    "print('Giá trị 5 mẫu cuối cùng của impressions:',impressions[-5:])"
   ]
  },
  {
   "cell_type": "markdown",
   "metadata": {
    "id": "tHUI9_RbzCzF"
   },
   "source": [
    "<details>\n",
    "  <summary>Nhấn vào đây để xem kết quả!</summary>\n",
    "  <pre>5 mẫu cuối cùng của clicks:  [252 120  28 135 114]\n",
    "5 mẫu cuối cùng của spent:  [358.19 173.88  40.29 198.71 165.61]\n",
    "5 mẫu cuối cùng của impressions:  [1129773  637549  151531  790253  513161]\n",
    "</pre>\n",
    "  \n",
    "</details>"
   ]
  },
  {
   "cell_type": "code",
   "execution_count": 14,
   "metadata": {
    "collapsed": false,
    "id": "9LHFnGrkzCzI"
   },
   "outputs": [
    {
     "name": "stdout",
     "output_type": "stream",
     "text": [
      "Giá trị CPC của 5 mẫu đầu: [1.43 0.91  nan 1.25 1.29]\n"
     ]
    }
   ],
   "source": [
    "# Câu 5: Tính CPC của từng mẫu theo công thức trên.\n",
    "cpc = spent/clicks\n",
    "# Hiển thị giá trị CPC của 5 mẫu đầu\n",
    "print('Giá trị CPC của 5 mẫu đầu:',cpc[:5])"
   ]
  },
  {
   "cell_type": "markdown",
   "metadata": {
    "id": "PoUeRWDPzCzM"
   },
   "source": [
    "<details>\n",
    "  <summary>Nhấn vào đây để xem kết quả!</summary>\n",
    "  <pre>array([1.43, 0.91,  nan, 1.25, 1.29])</pre>\n",
    "  \n",
    "</details>"
   ]
  },
  {
   "cell_type": "code",
   "execution_count": 15,
   "metadata": {
    "collapsed": false,
    "id": "SzAaLrMQzCzN"
   },
   "outputs": [
    {
     "name": "stdout",
     "output_type": "stream",
     "text": [
      "Giá trị CPM của 5 mẫu đầu: [0.19455782 0.10189799 0.         0.29349613 0.31212195]\n"
     ]
    }
   ],
   "source": [
    "# Câu 6: Tính CPM cho từng mẫu theo công thức trên.\n",
    "cpm = (spent/impressions) * 1000\n",
    "# Hiển thị giá trị CPM của 5 mẫu đầu\n",
    "print('Giá trị CPM của 5 mẫu đầu:',cpm[:5])"
   ]
  },
  {
   "cell_type": "markdown",
   "metadata": {
    "id": "gHn0PGEDzCzP"
   },
   "source": [
    "<details>\n",
    "  <summary>Nhấn vào đây để xem kết quả!</summary>\n",
    "  <pre>array([0.19455782, 0.10189799, 0.        , 0.29349613, 0.31212195])</pre>\n",
    "  \n",
    "</details>"
   ]
  },
  {
   "cell_type": "code",
   "execution_count": null,
   "metadata": {
    "collapsed": true,
    "id": "ozVkvkxnzCzQ"
   },
   "outputs": [],
   "source": [
    "# Câu 7: Tìm giá trị clicks lớn nhất, từ đó cho biết mức spent tương ứng."
   ]
  },
  {
   "cell_type": "code",
   "execution_count": 20,
   "metadata": {
    "collapsed": false,
    "id": "pDYMWv08zCzT"
   },
   "outputs": [
    {
     "name": "stdout",
     "output_type": "stream",
     "text": [
      "Giá trị click lớn nhất 421\n"
     ]
    }
   ],
   "source": [
    "max_click = np.max(clicks)\n",
    "print('Giá trị click lớn nhất',max_click)"
   ]
  },
  {
   "cell_type": "markdown",
   "metadata": {
    "id": "8C0PoWYdzCzW"
   },
   "source": [
    "<details>\n",
    "  <summary>Nhấn vào đây để xem kết quả!</summary>\n",
    "  <pre>Giá trị clicks lớn nhất:  421\n",
    "</pre>\n",
    "  \n",
    "</details>"
   ]
  },
  {
   "cell_type": "code",
   "execution_count": 21,
   "metadata": {
    "collapsed": false,
    "id": "xVE14CnxzCzW"
   },
   "outputs": [
    {
     "data": {
      "text/plain": [
       "(array([860]),)"
      ]
     },
     "execution_count": 21,
     "metadata": {},
     "output_type": "execute_result"
    }
   ],
   "source": [
    "max_click_index = np.where(clicks == max_click)\n",
    "max_click_index"
   ]
  },
  {
   "cell_type": "markdown",
   "metadata": {
    "id": "4PFrEMfJzCza"
   },
   "source": [
    "<details>\n",
    "  <summary>Nhấn vào đây để xem kết quả!</summary>\n",
    "    <pre>Vị trí clicks lớn nhất: \n",
    "</pre>\n",
    "  <pre>(array([860], dtype=int64),)</pre>\n",
    "  \n",
    "</details>"
   ]
  },
  {
   "cell_type": "code",
   "execution_count": 22,
   "metadata": {
    "collapsed": false,
    "id": "ZvDUhiZJzCzb"
   },
   "outputs": [
    {
     "name": "stdout",
     "output_type": "stream",
     "text": [
      "Mức spent tương ứng [612.3]\n"
     ]
    }
   ],
   "source": [
    "print('Mức spent tương ứng',spent[max_click_index])"
   ]
  },
  {
   "cell_type": "markdown",
   "metadata": {
    "id": "VBto9CuyzCze"
   },
   "source": [
    "<details>\n",
    "  <summary>Nhấn vào đây để xem kết quả!</summary>\n",
    "  <pre>Giá trị spent tương ứng là: \n",
    "</pre>\n",
    "<pre>array([612.3])</pre>\n",
    "  \n",
    "</details>"
   ]
  },
  {
   "cell_type": "code",
   "execution_count": null,
   "metadata": {
    "collapsed": true,
    "id": "jLooloDuzCzf"
   },
   "outputs": [],
   "source": [
    "# Câu 8: Tìm giá trị/ vị trí impressions nhỏ nhất và lớn nhất. Từ đó, cho biết spent tương ứng."
   ]
  },
  {
   "cell_type": "code",
   "execution_count": 26,
   "metadata": {
    "collapsed": false,
    "id": "TGKJb3KJzCzj"
   },
   "outputs": [
    {
     "data": {
      "text/plain": [
       "87.0"
      ]
     },
     "execution_count": 26,
     "metadata": {},
     "output_type": "execute_result"
    }
   ],
   "source": [
    "min_impression = np.min(impressions)\n",
    "min_impression"
   ]
  },
  {
   "cell_type": "markdown",
   "metadata": {
    "id": "0OWTy7h4zCzl"
   },
   "source": [
    "<details>\n",
    "  <summary>Nhấn vào đây để xem kết quả!</summary>\n",
    "  <pre>Giá trị impressions nhỏ nhất:  87\n",
    "</pre>\n",
    "  \n",
    "</details>"
   ]
  },
  {
   "cell_type": "code",
   "execution_count": 30,
   "metadata": {
    "collapsed": false,
    "id": "qf0AJCbjzCzm"
   },
   "outputs": [
    {
     "data": {
      "text/plain": [
       "(array([500]),)"
      ]
     },
     "execution_count": 30,
     "metadata": {},
     "output_type": "execute_result"
    }
   ],
   "source": [
    "min_impression_index = np.where(impressions == min_impression)\n",
    "min_impression_index"
   ]
  },
  {
   "cell_type": "markdown",
   "metadata": {
    "id": "3rlfUoUfzCzr"
   },
   "source": [
    "<details>\n",
    "  <summary>Nhấn vào đây để xem kết quả!</summary>\n",
    "  <pre>Vị trí impressions nhỏ nhất: \n",
    "</pre>\n",
    "  <pre>(array([500], dtype=int64),)</pre>\n",
    "</details>"
   ]
  },
  {
   "cell_type": "code",
   "execution_count": 32,
   "metadata": {
    "collapsed": false,
    "id": "EWiIzP65zCzr"
   },
   "outputs": [
    {
     "name": "stdout",
     "output_type": "stream",
     "text": [
      "Spent tương ứng với impression nhỏ nhất: [0.]\n"
     ]
    }
   ],
   "source": [
    "print('Spent tương ứng với impression nhỏ nhất:',spent[min_impression_index])"
   ]
  },
  {
   "cell_type": "markdown",
   "metadata": {
    "id": "XQPrFgDmzCzv"
   },
   "source": [
    "<details>\n",
    "  <summary>Nhấn vào đây để xem kết quả!</summary>\n",
    "  <pre>Giá trị spent tương ứng là: \n",
    "</pre>\n",
    "  <pre>array([0.])</pre>\n",
    "</details>"
   ]
  },
  {
   "cell_type": "code",
   "execution_count": 33,
   "metadata": {
    "collapsed": false,
    "id": "ztjI6VsZzCzv"
   },
   "outputs": [
    {
     "data": {
      "text/plain": [
       "3052003.0"
      ]
     },
     "execution_count": 33,
     "metadata": {},
     "output_type": "execute_result"
    }
   ],
   "source": [
    "max_impression = np.max(impressions)\n",
    "max_impression"
   ]
  },
  {
   "cell_type": "markdown",
   "metadata": {
    "id": "CbBDTgp_zCzy"
   },
   "source": [
    "<details>\n",
    "  <summary>Nhấn vào đây để xem kết quả!</summary>\n",
    "  <pre>Giá trị impressions lớn nhất:  3052003\n",
    "</pre>\n",
    "  \n",
    "</details>"
   ]
  },
  {
   "cell_type": "code",
   "execution_count": 34,
   "metadata": {
    "collapsed": false,
    "id": "elMoeZhGzCzy"
   },
   "outputs": [
    {
     "data": {
      "text/plain": [
       "(array([525]),)"
      ]
     },
     "execution_count": 34,
     "metadata": {},
     "output_type": "execute_result"
    }
   ],
   "source": [
    "max_impression_index = np.where(impressions == max_impression)\n",
    "max_impression_index"
   ]
  },
  {
   "cell_type": "markdown",
   "metadata": {
    "id": "46Ij572szCz1"
   },
   "source": [
    "<details>\n",
    "  <summary>Nhấn vào đây để xem kết quả!</summary>\n",
    "  <pre>Vị trí impressions lớn nhất: \n",
    "</pre>\n",
    "<pre>(array([525], dtype=int64),)</pre>\n",
    "  \n",
    "</details>"
   ]
  },
  {
   "cell_type": "code",
   "execution_count": 35,
   "metadata": {
    "collapsed": false,
    "id": "nLImhhJ8zCz1"
   },
   "outputs": [
    {
     "name": "stdout",
     "output_type": "stream",
     "text": [
      "Spent tương ứng với impression lớn nhất: [639.95]\n"
     ]
    }
   ],
   "source": [
    "print('Spent tương ứng với impression lớn nhất:',spent[max_impression_index])"
   ]
  },
  {
   "cell_type": "markdown",
   "metadata": {
    "id": "0evvjZWhzCz4"
   },
   "source": [
    "<details>\n",
    "  <summary>Nhấn vào đây để xem kết quả!</summary>\n",
    "  <pre>Giá trị spent tương ứng là: \n",
    "</pre>\n",
    "  <pre>array([639.95])</pre>\n",
    "</details>"
   ]
  },
  {
   "cell_type": "code",
   "execution_count": 37,
   "metadata": {
    "collapsed": false,
    "id": "rtfFT87MzCz5"
   },
   "outputs": [
    {
     "name": "stdout",
     "output_type": "stream",
     "text": [
      "Tổng số click:38165\n",
      "Tổng số impression:213434828\n",
      "Tổng số spent:58705.23\n"
     ]
    }
   ],
   "source": [
    "# Câu 9: Tính tổng số click, impression và chi phí (spent) của tất cả các mẫu\n",
    "print('Tổng số click:%d'%np.sum(clicks))\n",
    "print('Tổng số impression:%d'%np.sum(impressions))\n",
    "print('Tổng số spent:%.2f'%np.sum(spent))"
   ]
  },
  {
   "cell_type": "markdown",
   "metadata": {
    "id": "sArmxlMqzCz8"
   },
   "source": [
    "<details>\n",
    "  <summary>Nhấn vào đây để xem kết quả!</summary>\n",
    "  <pre>Tổng số click:  38165\n",
    "Tổng số impression:  213434828\n",
    "Tổng số chi phí:  58705.23\n",
    "</pre>\n",
    "  \n",
    "</details>"
   ]
  },
  {
   "cell_type": "code",
   "execution_count": 44,
   "metadata": {
    "collapsed": false,
    "id": "n8Toh1SHzCz9"
   },
   "outputs": [
    {
     "name": "stdout",
     "output_type": "stream",
     "text": [
      "click của spent lớn nhất: 340\n",
      "impression của spent lớn nhất: 3052003\n"
     ]
    }
   ],
   "source": [
    "# Câu 10: Cho biết click và impression của mẫu quảng cáo có mức spent lớn nhất\n",
    "max_spent_index = np.where(spent == np.max(spent))\n",
    "print('click của spent lớn nhất: %d'%clicks[max_spent_index])\n",
    "print('impression của spent lớn nhất: %d'%impressions[max_spent_index])"
   ]
  },
  {
   "cell_type": "markdown",
   "metadata": {
    "id": "w9x_hSyGzC0B"
   },
   "source": [
    "<details>\n",
    "  <summary>Nhấn vào đây để xem kết quả!</summary>\n",
    "  <pre>Giá trị spent lớn nhất:  639.95\n",
    "click của mẫu quảng cáo có mức spent lớn nhất:  [1]\n",
    "impression của mẫu quảng cáo có mức spent lớn nhất:  [7350]\n",
    "</pre>\n",
    "  \n",
    "</details>"
   ]
  },
  {
   "cell_type": "code",
   "execution_count": 47,
   "metadata": {
    "collapsed": false,
    "id": "znGT7FnszC0C"
   },
   "outputs": [
    {
     "name": "stdout",
     "output_type": "stream",
     "text": [
      "Trung bình của clicks: 33.39, trung vị của clicks: 8.00\n",
      "Trung bình của impressions: 186732.13, trung vị của impressions: 51509.00\n",
      "Trung bình của spent: 51.36, trung vị của spent: 12.37\n"
     ]
    }
   ],
   "source": [
    "# Câu 11: Tìm giá trị trung bình và trung vị của clicks, impressions, spents\n",
    "print('Trung bình của clicks: %.2f, trung vị của clicks: %.2f'%(np.mean(clicks),np.median(clicks)))\n",
    "print('Trung bình của impressions: %.2f, trung vị của impressions: %.2f'%(np.mean(impressions),np.median(impressions)))\n",
    "print('Trung bình của spent: %.2f, trung vị của spent: %.2f'%(np.mean(spent),np.median(spent)))"
   ]
  },
  {
   "cell_type": "markdown",
   "metadata": {
    "id": "987vAmowzC0F"
   },
   "source": [
    "<details>\n",
    "  <summary>Nhấn vào đây để xem kết quả!</summary>\n",
    "  <pre>Giá trị trung bình của clicks:  33.39020122484689\n",
    "Giá trị trung vị của clicks:  8.0\n",
    "Giá trị trung bình của impressions:  186732.1329833771\n",
    "Giá trị trung vị của impressions:  51509.0\n",
    "Giá trị trung bình của spents:  51.360656167979\n",
    "Giá trị trung vị của spents:  12.37\n",
    "</pre>\n",
    "  \n",
    "</details>"
   ]
  },
  {
   "cell_type": "code",
   "execution_count": 57,
   "metadata": {
    "collapsed": false,
    "id": "rxxeuPR5zC0G"
   },
   "outputs": [
    {
     "data": {
      "text/plain": [
       "array([ 95, 100,  91,  98,  91,  97,  90,  96,  97,  91, 100])"
      ]
     },
     "execution_count": 57,
     "metadata": {},
     "output_type": "execute_result"
    }
   ],
   "source": [
    "# Câu 12: Cho biết có những clicks nào >= 90 và <=100, tạo array clicks_above chứa các clicks này. \n",
    "clicks_above = np.extract((clicks >= 90) & (clicks <= 100), clicks)\n",
    "clicks_above"
   ]
  },
  {
   "cell_type": "markdown",
   "metadata": {
    "id": "xYYV5kEyzC0K"
   },
   "source": [
    "<details>\n",
    "  <summary>Nhấn vào đây để xem kết quả!</summary>\n",
    "  <pre>array([ 95, 100,  91,  98,  91,  97,  90,  96,  97,  91, 100])</pre>\n",
    "  \n",
    "</details>"
   ]
  },
  {
   "cell_type": "code",
   "execution_count": 58,
   "metadata": {
    "collapsed": false,
    "id": "wq7lp_ZDzC0L"
   },
   "outputs": [
    {
     "data": {
      "text/plain": [
       "11"
      ]
     },
     "execution_count": 58,
     "metadata": {},
     "output_type": "execute_result"
    }
   ],
   "source": [
    "# Có bao nhiêu clicks thỏa điều kiện?\n",
    "clicks_above.size"
   ]
  },
  {
   "cell_type": "markdown",
   "metadata": {
    "id": "uakwdMTWzC0N"
   },
   "source": [
    "<details>\n",
    "  <summary>Nhấn vào đây để xem kết quả!</summary>\n",
    "  <pre>11</pre>\n",
    "  \n",
    "</details>"
   ]
  },
  {
   "cell_type": "code",
   "execution_count": 59,
   "metadata": {
    "collapsed": false,
    "id": "SIZHdeQdzC0O"
   },
   "outputs": [
    {
     "data": {
      "text/plain": [
       "array([ 1.43,  1.82,  0.  , ..., 40.29, 12.37, 12.37])"
      ]
     },
     "execution_count": 59,
     "metadata": {},
     "output_type": "execute_result"
    }
   ],
   "source": [
    "# Câu 13: Tạo array spent_new lấy dữ liệu từ spent, \n",
    "# trong đó, các mẫu có spent > 147.8425 sẽ cập nhật lại bằng giá trị trung vị của spent.\n",
    "spent_new = spent\n",
    "spent_new[np.where(spent_new > 147.8425)] = np.median(spent_new)\n",
    "spent_new"
   ]
  },
  {
   "cell_type": "markdown",
   "metadata": {
    "id": "pyhXrXi2zC0Q"
   },
   "source": [
    "<details>\n",
    "  <summary>Nhấn vào đây để xem kết quả!</summary>\n",
    "  <pre>array([ 1.43,  1.82,  0.  , ..., 40.29, 12.37, 12.37])</pre>\n",
    "  \n",
    "</details>"
   ]
  },
  {
   "cell_type": "code",
   "execution_count": 68,
   "metadata": {
    "collapsed": false,
    "id": "ivrj9JsEzC0R"
   },
   "outputs": [
    {
     "name": "stdout",
     "output_type": "stream",
     "text": [
      "5 giá trị cuối của clicks [120  28 135 114   5]\n",
      "5 giá trị cuối của spent [173.88  40.29 198.71 165.61   4.5 ]\n",
      "5 giá trị cuối của impressions [637549. 151531. 790253. 513161. 105000.]\n"
     ]
    }
   ],
   "source": [
    "# Câu 14: Thêm 3 giá trị 5, 4.5, 10500 lần lượt vào cuối các array clicks, spents và impressions\n",
    "clicks = np.append(clicks,[5])\n",
    "spent = np.append(spent,[4.5])\n",
    "impressions = np.append(impressions,[105000])\n",
    "# Hiển thị 5 giá trị cuối của các array clicks, spent và impressions\n",
    "print('5 giá trị cuối của clicks',clicks[-5:])\n",
    "print('5 giá trị cuối của spent',spent[-5:])\n",
    "print('5 giá trị cuối của impressions',impressions[-5:])"
   ]
  },
  {
   "cell_type": "markdown",
   "metadata": {
    "id": "GmpWu-AyzC0V"
   },
   "source": [
    "<details>\n",
    "  <summary>Nhấn vào đây để xem kết quả!</summary>\n",
    "  <pre>array([120,  28, 135, 114,   5])</pre>\n",
    "<pre>array([173.88,  40.29, 198.71, 165.61,   4.5 ])</pre>\n",
    "<pre>array([637549, 151531, 790253, 513161,  10500])</pre>\n",
    "  \n",
    "</details>"
   ]
  },
  {
   "cell_type": "code",
   "execution_count": 69,
   "metadata": {
    "collapsed": true,
    "id": "Zi0CJEdCzC0V"
   },
   "outputs": [],
   "source": [
    "# Câu 15: Xóa các giá trị ở index 10 và 100 của các array clicks, spents và impressions\n",
    "clicks = np.delete(clicks, [10,100])\n",
    "spent = np.delete(spent, [10,100])\n",
    "impressions = np.delete(impressions, [10,100])"
   ]
  },
  {
   "cell_type": "code",
   "execution_count": 72,
   "metadata": {
    "collapsed": false,
    "id": "fadaBQxDzC0Y"
   },
   "outputs": [
    {
     "data": {
      "text/plain": [
       "array([[1.        , 0.94846678],\n",
       "       [0.94846678, 1.        ]])"
      ]
     },
     "execution_count": 72,
     "metadata": {},
     "output_type": "execute_result"
    }
   ],
   "source": [
    "# Câu 16: Cho biết tương quan giữa click và impression\n",
    "np.corrcoef(clicks, impressions)"
   ]
  },
  {
   "cell_type": "markdown",
   "metadata": {
    "id": "ZVCzFbUjzC0b"
   },
   "source": [
    "<details>\n",
    "  <summary>Nhấn vào đây để xem kết quả!</summary>\n",
    "  <pre>array([[1.        , 0.94849531],\n",
    "       [0.94849531, 1.        ]])</pre>\n",
    "  \n",
    "</details>"
   ]
  }
 ],
 "metadata": {
  "colab": {
   "name": "HV_Chapter02_Exercise1_FacebookAds_1D.ipynb",
   "provenance": []
  },
  "kernelspec": {
   "display_name": "Python 3",
   "language": "python",
   "name": "python3"
  },
  "language_info": {
   "codemirror_mode": {
    "name": "ipython",
    "version": 3
   },
   "file_extension": ".py",
   "mimetype": "text/x-python",
   "name": "python",
   "nbconvert_exporter": "python",
   "pygments_lexer": "ipython3",
   "version": "3.5.9"
  }
 },
 "nbformat": 4,
 "nbformat_minor": 0
}
